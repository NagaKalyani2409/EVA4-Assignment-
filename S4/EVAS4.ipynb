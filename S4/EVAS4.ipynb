
from __future__ import print_function
import torch
import torch.nn as nn

import torch.nn.functional as F
import torch.optim as optim
from torchvision import datasets, transforms

class Net(nn.Module):
      def __init__(self):
          super(Net, self).__init__()
          self.conv1 = nn.Sequential(
              nn.Conv2d(in_channels=1,out_channels= 16,kernel_size=(3,3),padding=0,bias=False),
              nn.ReLU(),
              nn.BatchNorm2d(16),
              #nn.Conv2d(32, 32, 1, padding=0),
              #nn.ReLU(),
              #nn.BatchNorm2d(32),
              nn.Dropout(0.2)
          )
          self.conv2 = nn.Sequential(
              nn.Conv2d(in_channels=16,out_channels=32,kernel_size=(3,3),padding=0,bias=False),
              nn.ReLU(),
              nn.BatchNorm2d(32),
              #nn.Conv2d(64, 10, 1, stride=1, padding=0),
              #nn.BatchNorm2d(10),
              #nn.MaxPool2d(2, 2),
              nn.Dropout(0.2)
          )
          
          self.conv3 = nn.Sequential(
              nn.Conv2d(in_channels=32,out_channels=10,kernel_size=(1,1), padding=0,bias=False))
              #nn.ReLU(),
              #nn.BatchNorm2d(128),
          self.pool1= nn.MaxPool2d(2, 2)
              
          
          
          self.conv4=nn.Sequential(
            nn.Conv2d(in_channels=10,out_channels=16,kernel_size=(3,3),padding=0,bias=False),
            nn.ReLU(),
            nn.BatchNorm2d(16),
            nn.Dropout(0.2)
        )
          self.conv5=nn.Sequential(
            nn.Conv2d(in_channels=16,out_channels=16,kernel_size=(3,3),padding=0,bias=False),
            nn.ReLU(),
            nn.BatchNorm2d(16),
            nn.Dropout(0.2)
        )

          self.conv6=nn.Sequential(
            nn.Conv2d(in_channels=16,out_channels=16,kernel_size=(3,3),padding=0,bias=False),
            nn.ReLU(),
            nn.BatchNorm2d(16),
            nn.Dropout(0.2)
        )
          self.conv7=nn.Sequential(
            nn.Conv2d(in_channels=16,out_channels=16,kernel_size=(3,3),padding=1,bias=False),
            nn.ReLU(),
            nn.BatchNorm2d(16),
            nn.Dropout(0.2)       )
          
          self.gap=nn.Sequential(
              nn.AvgPool2d(6)
              )
          
          self.conv8=nn.Sequential(
              nn.Conv2d(in_channels=16,out_channels=10,kernel_size=(1,1),padding=0,bias=False)
          )
   #      self.dropout=nn.Dropout(0.2)
  
      def forward(self, x):
          x = self.conv1(x)
          x = self.conv2(x)
          x = self.conv3(x)
          x = self.pool1(x)
          x = self.conv4(x)
          x = self.conv5(x)
          x = self.conv6(x)
          x = self.conv7(x)
          x = self.gap(x)
          x = self.conv8(x)
          x = x.view(-1,10)
          x = F.log_softmax(x, dim=1)
          return x

!pip install torchsummary
from torchsummary import summary
use_cuda = torch.cuda.is_available()
device = torch.device("cuda" if use_cuda else "cpu")
model = Net().to(device)
summary(model, input_size=(1, 28, 28))
Requirement already satisfied: torchsummary in /usr/local/lib/python3.6/dist-packages (1.5.1)
----------------------------------------------------------------
        Layer (type)               Output Shape         Param #
================================================================
            Conv2d-1           [-1, 16, 26, 26]             144
              ReLU-2           [-1, 16, 26, 26]               0
       BatchNorm2d-3           [-1, 16, 26, 26]              32
           Dropout-4           [-1, 16, 26, 26]               0
            Conv2d-5           [-1, 32, 24, 24]           4,608
              ReLU-6           [-1, 32, 24, 24]               0
       BatchNorm2d-7           [-1, 32, 24, 24]              64
           Dropout-8           [-1, 32, 24, 24]               0
            Conv2d-9           [-1, 10, 24, 24]             320
        MaxPool2d-10           [-1, 10, 12, 12]               0
           Conv2d-11           [-1, 16, 10, 10]           1,440
             ReLU-12           [-1, 16, 10, 10]               0
      BatchNorm2d-13           [-1, 16, 10, 10]              32
          Dropout-14           [-1, 16, 10, 10]               0
           Conv2d-15             [-1, 16, 8, 8]           2,304
             ReLU-16             [-1, 16, 8, 8]               0
      BatchNorm2d-17             [-1, 16, 8, 8]              32
          Dropout-18             [-1, 16, 8, 8]               0
           Conv2d-19             [-1, 16, 6, 6]           2,304
             ReLU-20             [-1, 16, 6, 6]               0
      BatchNorm2d-21             [-1, 16, 6, 6]              32
          Dropout-22             [-1, 16, 6, 6]               0
           Conv2d-23             [-1, 16, 6, 6]           2,304
             ReLU-24             [-1, 16, 6, 6]               0
      BatchNorm2d-25             [-1, 16, 6, 6]              32
          Dropout-26             [-1, 16, 6, 6]               0
        AvgPool2d-27             [-1, 16, 1, 1]               0
           Conv2d-28             [-1, 10, 1, 1]             160
================================================================
Total params: 13,808
Trainable params: 13,808
Non-trainable params: 0
----------------------------------------------------------------
Input size (MB): 0.00
Forward/backward pass size (MB): 1.06
Params size (MB): 0.05
Estimated Total Size (MB): 1.12
----------------------------------------------------------------

torch.manual_seed(1)
batch_size = 128

kwargs = {'num_workers': 1, 'pin_memory': True} if use_cuda else {}
train_loader = torch.utils.data.DataLoader(
    datasets.MNIST('../data', train=True, download=True,
                    transform=transforms.Compose([
                        transforms.ToTensor(),
                        transforms.Normalize((0.1307,), (0.3081,))
                    ])),
    batch_size=batch_size, shuffle=True, **kwargs)
test_loader = torch.utils.data.DataLoader(
    datasets.MNIST('../data', train=False, transform=transforms.Compose([
                        transforms.ToTensor(),
                        transforms.Normalize((0.1307,), (0.3081,))
                    ])),
    batch_size=batch_size, shuffle=True, **kwargs)
Downloading http://yann.lecun.com/exdb/mnist/train-images-idx3-ubyte.gz to ../data/MNIST/raw/train-images-idx3-ubyte.gz
HBox(children=(IntProgress(value=1, bar_style='info', max=1), HTML(value='')))
Extracting ../data/MNIST/raw/train-images-idx3-ubyte.gz to ../data/MNIST/raw
Downloading http://yann.lecun.com/exdb/mnist/train-labels-idx1-ubyte.gz to ../data/MNIST/raw/train-labels-idx1-ubyte.gz
HBox(children=(IntProgress(value=1, bar_style='info', max=1), HTML(value='')))
Extracting ../data/MNIST/raw/train-labels-idx1-ubyte.gz to ../data/MNIST/raw
Downloading http://yann.lecun.com/exdb/mnist/t10k-images-idx3-ubyte.gz to ../data/MNIST/raw/t10k-images-idx3-ubyte.gz
HBox(children=(IntProgress(value=1, bar_style='info', max=1), HTML(value='')))
Extracting ../data/MNIST/raw/t10k-images-idx3-ubyte.gz to ../data/MNIST/raw
Downloading http://yann.lecun.com/exdb/mnist/t10k-labels-idx1-ubyte.gz to ../data/MNIST/raw/t10k-labels-idx1-ubyte.gz
HBox(children=(IntProgress(value=1, bar_style='info', max=1), HTML(value='')))
Extracting ../data/MNIST/raw/t10k-labels-idx1-ubyte.gz to ../data/MNIST/raw
Processing...
Done!

from tqdm import tqdm
def train(model, device, train_loader, optimizer, epoch):
    model.train()
    pbar = tqdm(train_loader)
    for batch_idx, (data, target) in enumerate(pbar):
        data, target = data.to(device), target.to(device)
        optimizer.zero_grad()
        output = model(data)
        loss = F.nll_loss(output, target)
        loss.backward()
        optimizer.step()
        pbar.set_description(desc= f'loss={loss.item()} batch_id={batch_idx}')


def test(model, device, test_loader):
    model.eval()
    test_loss = 0
    correct = 0
    with torch.no_grad():
        for data, target in test_loader:
            data, target = data.to(device), target.to(device)
            output = model(data)
            test_loss += F.nll_loss(output, target, reduction='sum').item()  # sum up batch loss
            pred = output.argmax(dim=1, keepdim=True)  # get the index of the max log-probability
            correct += pred.eq(target.view_as(pred)).sum().item()

    test_loss /= len(test_loader.dataset)

    print('\nTest set: Average loss: {:.4f}, Accuracy: {}/{} ({:.2f}%)\n'.format(
        test_loss, correct, len(test_loader.dataset),
        100. * correct / len(test_loader.dataset)))



model = Net().to(device)
optimizer = optim.SGD(model.parameters(), lr=0.01, momentum=0.9)

for epoch in range(1, 20):
    train(model, device, train_loader, optimizer, epoch)
    test(model, device, test_loader)
loss=0.05851394310593605 batch_id=468: 100%|██████████| 469/469 [00:11<00:00, 44.80it/s]
  0%|          | 0/469 [00:00<?, ?it/s]
Test set: Average loss: 0.1354, Accuracy: 9596/10000 (95.96%)

loss=0.08888667821884155 batch_id=468: 100%|██████████| 469/469 [00:11<00:00, 46.11it/s]
  0%|          | 0/469 [00:00<?, ?it/s]
Test set: Average loss: 0.0535, Accuracy: 9837/10000 (98.37%)

loss=0.057639747858047485 batch_id=468: 100%|██████████| 469/469 [00:11<00:00, 41.50it/s]
  0%|          | 0/469 [00:00<?, ?it/s]
Test set: Average loss: 0.0441, Accuracy: 9879/10000 (98.79%)

loss=0.03709796443581581 batch_id=468: 100%|██████████| 469/469 [00:11<00:00, 42.23it/s]
  0%|          | 0/469 [00:00<?, ?it/s]
Test set: Average loss: 0.0315, Accuracy: 9910/10000 (99.10%)

loss=0.043902162462472916 batch_id=468: 100%|██████████| 469/469 [00:10<00:00, 43.74it/s]
  0%|          | 0/469 [00:00<?, ?it/s]
Test set: Average loss: 0.0310, Accuracy: 9904/10000 (99.04%)

loss=0.04607212170958519 batch_id=468: 100%|██████████| 469/469 [00:10<00:00, 42.89it/s]
  0%|          | 0/469 [00:00<?, ?it/s]
Test set: Average loss: 0.0262, Accuracy: 9925/10000 (99.25%)

loss=0.03743629530072212 batch_id=468: 100%|██████████| 469/469 [00:11<00:00, 41.31it/s]
  0%|          | 0/469 [00:00<?, ?it/s]
Test set: Average loss: 0.0285, Accuracy: 9903/10000 (99.03%)

loss=0.10911083966493607 batch_id=468: 100%|██████████| 469/469 [00:11<00:00, 41.42it/s]
  0%|          | 0/469 [00:00<?, ?it/s]
Test set: Average loss: 0.0258, Accuracy: 9923/10000 (99.23%)

loss=0.02494979463517666 batch_id=468: 100%|██████████| 469/469 [00:10<00:00, 42.88it/s]
  0%|          | 0/469 [00:00<?, ?it/s]
Test set: Average loss: 0.0246, Accuracy: 9925/10000 (99.25%)

loss=0.023453721776604652 batch_id=468: 100%|██████████| 469/469 [00:10<00:00, 43.54it/s]
  0%|          | 0/469 [00:00<?, ?it/s]
Test set: Average loss: 0.0214, Accuracy: 9931/10000 (99.31%)

loss=0.029677122831344604 batch_id=468: 100%|██████████| 469/469 [00:10<00:00, 43.59it/s]
  0%|          | 0/469 [00:00<?, ?it/s]
Test set: Average loss: 0.0238, Accuracy: 9925/10000 (99.25%)

loss=0.10368514060974121 batch_id=468: 100%|██████████| 469/469 [00:11<00:00, 31.24it/s]
  0%|          | 0/469 [00:00<?, ?it/s]
Test set: Average loss: 0.0229, Accuracy: 9933/10000 (99.33%)

loss=0.006222784519195557 batch_id=468: 100%|██████████| 469/469 [00:11<00:00, 42.33it/s]
  0%|          | 0/469 [00:00<?, ?it/s]
Test set: Average loss: 0.0203, Accuracy: 9936/10000 (99.36%)

loss=0.00782106351107359 batch_id=468: 100%|██████████| 469/469 [00:10<00:00, 43.73it/s]
  0%|          | 0/469 [00:00<?, ?it/s]
Test set: Average loss: 0.0229, Accuracy: 9928/10000 (99.28%)

loss=0.015548105351626873 batch_id=468: 100%|██████████| 469/469 [00:10<00:00, 45.26it/s]
  0%|          | 0/469 [00:00<?, ?it/s]
Test set: Average loss: 0.0193, Accuracy: 9940/10000 (99.40%)

loss=0.014138747937977314 batch_id=468: 100%|██████████| 469/469 [00:10<00:00, 43.48it/s]
  0%|          | 0/469 [00:00<?, ?it/s]
Test set: Average loss: 0.0191, Accuracy: 9943/10000 (99.43%)

loss=0.03360319137573242 batch_id=468: 100%|██████████| 469/469 [00:11<00:00, 41.60it/s]
  0%|          | 0/469 [00:00<?, ?it/s]
Test set: Average loss: 0.0209, Accuracy: 9935/10000 (99.35%)

loss=0.11406641453504562 batch_id=468: 100%|██████████| 469/469 [00:11<00:00, 42.58it/s]
  0%|          | 0/469 [00:00<?, ?it/s]
Test set: Average loss: 0.0203, Accuracy: 9938/10000 (99.38%)

loss=0.06723446398973465 batch_id=468: 100%|██████████| 469/469 [00:10<00:00, 43.47it/s]
Test set: Average loss: 0.0200, Accuracy: 9933/10000 (99.33%)

In [0]:
